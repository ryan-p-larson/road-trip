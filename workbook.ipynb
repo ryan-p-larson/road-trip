{
 "cells": [
  {
   "cell_type": "markdown",
   "metadata": {},
   "source": [
    "# Road Trip - McDonalds\n",
    "\n",
    "The tweet that started it all:"
   ]
  },
  {
   "cell_type": "code",
   "execution_count": 16,
   "metadata": {},
   "outputs": [
    {
     "data": {
      "text/html": [
       "<blockquote class=\"twitter-tweet\" data-lang=\"en\"><p lang=\"en\" dir=\"ltr\">I wonder how many McDonald&#39;s we&#39;ve passed on our way North... <a href=\"https://twitter.com/hashtag/ATXtoMSP?src=hash&amp;ref_src=twsrc%5Etfw\">#ATXtoMSP</a></p>&mdash; ️️Ryan Larson (@ryan_p_larson) <a href=\"https://twitter.com/ryan_p_larson/status/1075837060219629568?ref_src=twsrc%5Etfw\">December 20, 2018</a></blockquote>\n",
       "<script async src=\"https://platform.twitter.com/widgets.js\" charset=\"utf-8\"></script>\n"
      ],
      "text/plain": [
       "<IPython.core.display.HTML object>"
      ]
     },
     "metadata": {},
     "output_type": "display_data"
    }
   ],
   "source": [
    "%%html\n",
    "<blockquote class=\"twitter-tweet\" data-lang=\"en\"><p lang=\"en\" dir=\"ltr\">I wonder how many McDonald&#39;s we&#39;ve passed on our way North... <a href=\"https://twitter.com/hashtag/ATXtoMSP?src=hash&amp;ref_src=twsrc%5Etfw\">#ATXtoMSP</a></p>&mdash; ️️Ryan Larson (@ryan_p_larson) <a href=\"https://twitter.com/ryan_p_larson/status/1075837060219629568?ref_src=twsrc%5Etfw\">December 20, 2018</a></blockquote>\n",
    "<script async src=\"https://platform.twitter.com/widgets.js\" charset=\"utf-8\"></script>"
   ]
  },
  {
   "cell_type": "markdown",
   "metadata": {},
   "source": [
    "---\n",
    "\n",
    "We'll be using \n",
    "- [Pandas](github.com/pandas) for data manipulation\n",
    "- [GeoPandas](github.com/geopandas) for geographic information\n",
    "- [GPXPy]() for transforming Google Maps directions into GPS points\n",
    "\n",
    "To start we'll import our libraries and assign our data files to variables."
   ]
  },
  {
   "cell_type": "code",
   "execution_count": 1,
   "metadata": {},
   "outputs": [
    {
     "name": "stderr",
     "output_type": "stream",
     "text": [
      "/home/user/.miniconda3/envs/maps/lib/python3.5/importlib/_bootstrap.py:222: RuntimeWarning: numpy.dtype size changed, may indicate binary incompatibility. Expected 96, got 88\n",
      "  return f(*args, **kwds)\n",
      "/home/user/.miniconda3/envs/maps/lib/python3.5/importlib/_bootstrap.py:222: RuntimeWarning: numpy.dtype size changed, may indicate binary incompatibility. Expected 96, got 88\n",
      "  return f(*args, **kwds)\n"
     ]
    }
   ],
   "source": [
    "# Warnings\n",
    "#from warnings import filterwarnings\n",
    "#filterwarnings('error')\n",
    "\n",
    "# Libraries\n",
    "import pandas as pd\n",
    "import geopandas as gpd\n",
    "import gpxpy\n",
    "from shapely.geometry import Point, LineString\n",
    "\n",
    "import matplotlib.pyplot as plt\n",
    "%matplotlib inline"
   ]
  },
  {
   "cell_type": "code",
   "execution_count": 2,
   "metadata": {},
   "outputs": [],
   "source": [
    "# Data files\n",
    "states_f = 'data/states.geo.json'\n",
    "mcdons_f = 'data/Mcdonalds_USA_CAN.csv'\n",
    "direct_f = 'data/directions.gpx'"
   ]
  },
  {
   "cell_type": "markdown",
   "metadata": {},
   "source": [
    "### States Map Files\n",
    "\n",
    "Filter down to just road trip states."
   ]
  },
  {
   "cell_type": "code",
   "execution_count": 3,
   "metadata": {},
   "outputs": [
    {
     "name": "stdout",
     "output_type": "stream",
     "text": [
      "Index(['GEO_ID', 'STATE', 'NAME', 'LSAD', 'CENSUSAREA', 'geometry'], dtype='object')\n"
     ]
    },
    {
     "data": {
      "image/png": "[encoded data removed]",
      "text/plain": [
       "<Figure size 432x288 with 1 Axes>"
      ]
     },
     "metadata": {
      "needs_background": "light"
     },
     "output_type": "display_data"
    }
   ],
   "source": [
    "states = gpd.read_file(states_f)\n",
    "\n",
    "# Take a look at the columns\n",
    "print (states.columns)\n",
    "\n",
    "# And make sure it's the U.S.\n",
    "states.plot();"
   ]
  },
  {
   "cell_type": "code",
   "execution_count": 4,
   "metadata": {},
   "outputs": [
    {
     "data": {
      "image/png": "[encoded data removed]",
      "text/plain": [
       "<Figure size 432x288 with 1 Axes>"
      ]
     },
     "metadata": {
      "needs_background": "light"
     },
     "output_type": "display_data"
    }
   ],
   "source": [
    "# List of states\n",
    "road_trip_state_names = [\"Texas\", \"Oklahoma\", \"Kansas\", \"Missouri\", \"Iowa\", \"Minnesota\"]\n",
    "\n",
    "# Filter just the states we pass through\n",
    "road_trip_states = states[states.NAME.isin(road_trip_state_names)]\n",
    "\n",
    "# Plot to double check\n",
    "road_trip_states.plot();"
   ]
  },
  {
   "cell_type": "markdown",
   "metadata": {},
   "source": [
    "### McDonalds Locations"
   ]
  },
  {
   "cell_type": "code",
   "execution_count": 5,
   "metadata": {},
   "outputs": [
    {
     "data": {
      "text/html": [
       "<div>\n",
       "<style scoped>\n",
       "    .dataframe tbody tr th:only-of-type {\n",
       "        vertical-align: middle;\n",
       "    }\n",
       "\n",
       "    .dataframe tbody tr th {\n",
       "        vertical-align: top;\n",
       "    }\n",
       "\n",
       "    .dataframe thead th {\n",
       "        text-align: right;\n",
       "    }\n",
       "</style>\n",
       "<table border=\"1\" class=\"dataframe\">\n",
       "  <thead>\n",
       "    <tr style=\"text-align: right;\">\n",
       "      <th></th>\n",
       "      <th>lng</th>\n",
       "      <th>lat</th>\n",
       "      <th>name</th>\n",
       "      <th>address</th>\n",
       "    </tr>\n",
       "  </thead>\n",
       "  <tbody>\n",
       "    <tr>\n",
       "      <th>0</th>\n",
       "      <td>-149.858384</td>\n",
       "      <td>61.217550</td>\n",
       "      <td>McDonalds-Anchorage,AK</td>\n",
       "      <td>1166 North Muldoon Road [Glenn Hwy], Anchorage...</td>\n",
       "    </tr>\n",
       "    <tr>\n",
       "      <th>1</th>\n",
       "      <td>-149.857960</td>\n",
       "      <td>61.108444</td>\n",
       "      <td>McDonalds-Anchorage,AK</td>\n",
       "      <td>1320 Huffman Rd, Anchorage,AK, (907) 345-5932|...</td>\n",
       "    </tr>\n",
       "    <tr>\n",
       "      <th>2</th>\n",
       "      <td>-149.732706</td>\n",
       "      <td>61.221371</td>\n",
       "      <td>McDonalds-Anchorage,AK</td>\n",
       "      <td>255 Muldoon Rd, Anchorage,AK, (907) 337-0810|S...</td>\n",
       "    </tr>\n",
       "    <tr>\n",
       "      <th>3</th>\n",
       "      <td>-149.832372</td>\n",
       "      <td>61.181187</td>\n",
       "      <td>McDonalds-Anchorage,AK</td>\n",
       "      <td>2601 E Tudor Rd, Anchorage,AK, (907) 562-2108|...</td>\n",
       "    </tr>\n",
       "    <tr>\n",
       "      <th>4</th>\n",
       "      <td>-149.823633</td>\n",
       "      <td>61.219353</td>\n",
       "      <td>McDonalds-Anchorage,AK</td>\n",
       "      <td>3006 Mountain View Dr, Anchorage,AK, (907) 274...</td>\n",
       "    </tr>\n",
       "  </tbody>\n",
       "</table>\n",
       "</div>"
      ],
      "text/plain": [
       "          lng        lat                    name  \\\n",
       "0 -149.858384  61.217550  McDonalds-Anchorage,AK   \n",
       "1 -149.857960  61.108444  McDonalds-Anchorage,AK   \n",
       "2 -149.732706  61.221371  McDonalds-Anchorage,AK   \n",
       "3 -149.832372  61.181187  McDonalds-Anchorage,AK   \n",
       "4 -149.823633  61.219353  McDonalds-Anchorage,AK   \n",
       "\n",
       "                                             address  \n",
       "0  1166 North Muldoon Road [Glenn Hwy], Anchorage...  \n",
       "1  1320 Huffman Rd, Anchorage,AK, (907) 345-5932|...  \n",
       "2  255 Muldoon Rd, Anchorage,AK, (907) 337-0810|S...  \n",
       "3  2601 E Tudor Rd, Anchorage,AK, (907) 562-2108|...  \n",
       "4  3006 Mountain View Dr, Anchorage,AK, (907) 274...  "
      ]
     },
     "execution_count": 5,
     "metadata": {},
     "output_type": "execute_result"
    }
   ],
   "source": [
    "# Assign columns to file\n",
    "csv_cols = [\"lng\", \"lat\", \"name\", \"address\"]\n",
    "mcdons = pd.read_csv(mcdons_f, names=csv_cols, header=None)\n",
    "\n",
    "mcdons.head()"
   ]
  },
  {
   "cell_type": "code",
   "execution_count": 6,
   "metadata": {},
   "outputs": [
    {
     "data": {
      "text/plain": [
       "0              McDonalds-Anchorage,AK\n",
       "1              McDonalds-Anchorage,AK\n",
       "2              McDonalds-Anchorage,AK\n",
       "3              McDonalds-Anchorage,AK\n",
       "4              McDonalds-Anchorage,AK\n",
       "5    McDonalds PlayPlace-Anchorage,AK\n",
       "6         McDonalds [WM]-Anchorage,AK\n",
       "7    McDonalds PlayPlace-Anchorage,AK\n",
       "8    McDonalds PlayPlace-Anchorage,AK\n",
       "9              McDonalds-Anchorage,AK\n",
       "Name: name, dtype: object"
      ]
     },
     "execution_count": 6,
     "metadata": {},
     "output_type": "execute_result"
    }
   ],
   "source": [
    "# Take a look at the Names to see if we can assign states\n",
    "mcdons.name.head(10)"
   ]
  },
  {
   "cell_type": "code",
   "execution_count": 7,
   "metadata": {},
   "outputs": [
    {
     "name": "stdout",
     "output_type": "stream",
     "text": [
      "Number of McDonald's in states we drove through: **2246**\n"
     ]
    },
    {
     "data": {
      "text/html": [
       "<div>\n",
       "<style scoped>\n",
       "    .dataframe tbody tr th:only-of-type {\n",
       "        vertical-align: middle;\n",
       "    }\n",
       "\n",
       "    .dataframe tbody tr th {\n",
       "        vertical-align: top;\n",
       "    }\n",
       "\n",
       "    .dataframe thead th {\n",
       "        text-align: right;\n",
       "    }\n",
       "</style>\n",
       "<table border=\"1\" class=\"dataframe\">\n",
       "  <thead>\n",
       "    <tr style=\"text-align: right;\">\n",
       "      <th></th>\n",
       "      <th>lng</th>\n",
       "      <th>lat</th>\n",
       "      <th>name</th>\n",
       "      <th>address</th>\n",
       "      <th>state</th>\n",
       "      <th>geometry</th>\n",
       "    </tr>\n",
       "  </thead>\n",
       "  <tbody>\n",
       "    <tr>\n",
       "      <th>3914</th>\n",
       "      <td>-94.236370</td>\n",
       "      <td>43.082950</td>\n",
       "      <td>McDonalds-Algona,IA</td>\n",
       "      <td>1321 Highway 169 N, Algona,IA, (515) 295-2870|...</td>\n",
       "      <td>IA</td>\n",
       "      <td>POINT (-94.23636999999999 43.08295)</td>\n",
       "    </tr>\n",
       "    <tr>\n",
       "      <th>3915</th>\n",
       "      <td>-93.498037</td>\n",
       "      <td>41.658652</td>\n",
       "      <td>McDonalds PlayPlace-Altoona,IA</td>\n",
       "      <td>3215 Adventureland Dr, Altoona,IA, (515) 967-3...</td>\n",
       "      <td>IA</td>\n",
       "      <td>POINT (-93.498037 41.658652)</td>\n",
       "    </tr>\n",
       "    <tr>\n",
       "      <th>3916</th>\n",
       "      <td>-93.507130</td>\n",
       "      <td>41.643600</td>\n",
       "      <td>McDonalds-Altoona,IA</td>\n",
       "      <td>3734 8th St SW, Altoona,IA 50009, (515) 957-82...</td>\n",
       "      <td>IA</td>\n",
       "      <td>POINT (-93.50713 41.6436)</td>\n",
       "    </tr>\n",
       "    <tr>\n",
       "      <th>3917</th>\n",
       "      <td>-93.610530</td>\n",
       "      <td>42.022500</td>\n",
       "      <td>McDonalds-Ames,IA</td>\n",
       "      <td>129 S Duff Ave, Ames,IA, (515) 232-1234|Servic...</td>\n",
       "      <td>IA</td>\n",
       "      <td>POINT (-93.61053000000001 42.0225)</td>\n",
       "    </tr>\n",
       "    <tr>\n",
       "      <th>3918</th>\n",
       "      <td>-93.665790</td>\n",
       "      <td>42.022970</td>\n",
       "      <td>McDonalds-Ames,IA</td>\n",
       "      <td>3621 Lincoln Way, Ames,IA, (515) 292-5200|Serv...</td>\n",
       "      <td>IA</td>\n",
       "      <td>POINT (-93.66579 42.02297)</td>\n",
       "    </tr>\n",
       "    <tr>\n",
       "      <th>3919</th>\n",
       "      <td>-93.610165</td>\n",
       "      <td>42.016791</td>\n",
       "      <td>McDonalds [WM]-Ames,IA</td>\n",
       "      <td>534 S Duff Ave [WM], Ames,IA, (515) 232-0171|S...</td>\n",
       "      <td>IA</td>\n",
       "      <td>POINT (-93.61016500000001 42.016791)</td>\n",
       "    </tr>\n",
       "    <tr>\n",
       "      <th>3920</th>\n",
       "      <td>-91.264979</td>\n",
       "      <td>42.104313</td>\n",
       "      <td>McDonalds-Anamosa,IA</td>\n",
       "      <td>160 Chamber Dr, Anamosa,IA, (319) 462-3589|Ser...</td>\n",
       "      <td>IA</td>\n",
       "      <td>POINT (-91.264979 42.104313)</td>\n",
       "    </tr>\n",
       "    <tr>\n",
       "      <th>3921</th>\n",
       "      <td>-93.581550</td>\n",
       "      <td>41.704640</td>\n",
       "      <td>McDonalds PlayPlace-Ankeny,IA</td>\n",
       "      <td>2502 Se Delaware Ave, Ankeny,IA, (515) 965-554...</td>\n",
       "      <td>IA</td>\n",
       "      <td>POINT (-93.58154999999999 41.70464)</td>\n",
       "    </tr>\n",
       "    <tr>\n",
       "      <th>3922</th>\n",
       "      <td>-93.620830</td>\n",
       "      <td>41.703840</td>\n",
       "      <td>McDonalds-Ankeny,IA</td>\n",
       "      <td>2625 SW State St, Ankeny,IA 50021, (515) 289-1...</td>\n",
       "      <td>IA</td>\n",
       "      <td>POINT (-93.62083 41.70384)</td>\n",
       "    </tr>\n",
       "    <tr>\n",
       "      <th>3923</th>\n",
       "      <td>-93.599870</td>\n",
       "      <td>41.727540</td>\n",
       "      <td>McDonalds-Ankeny,IA</td>\n",
       "      <td>401 S Ankeny Blvd, Ankeny,IA, (515) 964-5001|S...</td>\n",
       "      <td>IA</td>\n",
       "      <td>POINT (-93.59987 41.72754)</td>\n",
       "    </tr>\n",
       "  </tbody>\n",
       "</table>\n",
       "</div>"
      ],
      "text/plain": [
       "            lng        lat                            name  \\\n",
       "3914 -94.236370  43.082950             McDonalds-Algona,IA   \n",
       "3915 -93.498037  41.658652  McDonalds PlayPlace-Altoona,IA   \n",
       "3916 -93.507130  41.643600            McDonalds-Altoona,IA   \n",
       "3917 -93.610530  42.022500               McDonalds-Ames,IA   \n",
       "3918 -93.665790  42.022970               McDonalds-Ames,IA   \n",
       "3919 -93.610165  42.016791          McDonalds [WM]-Ames,IA   \n",
       "3920 -91.264979  42.104313            McDonalds-Anamosa,IA   \n",
       "3921 -93.581550  41.704640   McDonalds PlayPlace-Ankeny,IA   \n",
       "3922 -93.620830  41.703840             McDonalds-Ankeny,IA   \n",
       "3923 -93.599870  41.727540             McDonalds-Ankeny,IA   \n",
       "\n",
       "                                                address state  \\\n",
       "3914  1321 Highway 169 N, Algona,IA, (515) 295-2870|...    IA   \n",
       "3915  3215 Adventureland Dr, Altoona,IA, (515) 967-3...    IA   \n",
       "3916  3734 8th St SW, Altoona,IA 50009, (515) 957-82...    IA   \n",
       "3917  129 S Duff Ave, Ames,IA, (515) 232-1234|Servic...    IA   \n",
       "3918  3621 Lincoln Way, Ames,IA, (515) 292-5200|Serv...    IA   \n",
       "3919  534 S Duff Ave [WM], Ames,IA, (515) 232-0171|S...    IA   \n",
       "3920  160 Chamber Dr, Anamosa,IA, (319) 462-3589|Ser...    IA   \n",
       "3921  2502 Se Delaware Ave, Ankeny,IA, (515) 965-554...    IA   \n",
       "3922  2625 SW State St, Ankeny,IA 50021, (515) 289-1...    IA   \n",
       "3923  401 S Ankeny Blvd, Ankeny,IA, (515) 964-5001|S...    IA   \n",
       "\n",
       "                                  geometry  \n",
       "3914   POINT (-94.23636999999999 43.08295)  \n",
       "3915          POINT (-93.498037 41.658652)  \n",
       "3916             POINT (-93.50713 41.6436)  \n",
       "3917    POINT (-93.61053000000001 42.0225)  \n",
       "3918            POINT (-93.66579 42.02297)  \n",
       "3919  POINT (-93.61016500000001 42.016791)  \n",
       "3920          POINT (-91.264979 42.104313)  \n",
       "3921   POINT (-93.58154999999999 41.70464)  \n",
       "3922            POINT (-93.62083 41.70384)  \n",
       "3923            POINT (-93.59987 41.72754)  "
      ]
     },
     "execution_count": 7,
     "metadata": {},
     "output_type": "execute_result"
    }
   ],
   "source": [
    "# Add state column to mcdonalds locations\n",
    "mcdons['state'] = mcdons.name.apply(lambda nm: nm.split(',')[-1])\n",
    "\n",
    "# Filter locations to those within the road trip states\n",
    "mcdons_road_trip_abbrvs = ['TX', 'OK', 'KS', 'MO', 'IA', 'MN']\n",
    "\n",
    "# Filtered\n",
    "road_trip_mcdons = mcdons[mcdons.state.isin(mcdons_road_trip_abbrvs)]\n",
    "print (\"Number of McDonald's in states we drove through: **{}**\".format(len(road_trip_mcdons.index)))\n",
    "\n",
    "# Create a geodataframe of mcdonalds locations\n",
    "mcdons_geometry = [Point(xy) for xy in zip(road_trip_mcdons.lng, road_trip_mcdons.lat)]\n",
    "road_trip_mcdons = gpd.GeoDataFrame(road_trip_mcdons, geometry=mcdons_geometry)\n",
    "\n",
    "road_trip_mcdons.head(10)"
   ]
  },
  {
   "cell_type": "markdown",
   "metadata": {},
   "source": [
    "### Directions from GPX Tracks"
   ]
  },
  {
   "cell_type": "code",
   "execution_count": 8,
   "metadata": {},
   "outputs": [],
   "source": [
    "with open(direct_f, 'r') as f:\n",
    "    gpx = gpxpy.parse(f)\n",
    "\n",
    "# All information is within one track/segment\n",
    "directs = gpx.tracks[0].segments[0].points"
   ]
  },
  {
   "cell_type": "code",
   "execution_count": 9,
   "metadata": {},
   "outputs": [
    {
     "data": {
      "text/html": [
       "<div>\n",
       "<style scoped>\n",
       "    .dataframe tbody tr th:only-of-type {\n",
       "        vertical-align: middle;\n",
       "    }\n",
       "\n",
       "    .dataframe tbody tr th {\n",
       "        vertical-align: top;\n",
       "    }\n",
       "\n",
       "    .dataframe thead th {\n",
       "        text-align: right;\n",
       "    }\n",
       "</style>\n",
       "<table border=\"1\" class=\"dataframe\">\n",
       "  <thead>\n",
       "    <tr style=\"text-align: right;\">\n",
       "      <th></th>\n",
       "      <th>lat</th>\n",
       "      <th>lon</th>\n",
       "    </tr>\n",
       "  </thead>\n",
       "  <tbody>\n",
       "    <tr>\n",
       "      <th>0</th>\n",
       "      <td>30.23034</td>\n",
       "      <td>-97.78807</td>\n",
       "    </tr>\n",
       "    <tr>\n",
       "      <th>1</th>\n",
       "      <td>30.23055</td>\n",
       "      <td>-97.78852</td>\n",
       "    </tr>\n",
       "    <tr>\n",
       "      <th>2</th>\n",
       "      <td>30.23085</td>\n",
       "      <td>-97.78913</td>\n",
       "    </tr>\n",
       "    <tr>\n",
       "      <th>3</th>\n",
       "      <td>30.23094</td>\n",
       "      <td>-97.78932</td>\n",
       "    </tr>\n",
       "    <tr>\n",
       "      <th>4</th>\n",
       "      <td>30.23118</td>\n",
       "      <td>-97.78982</td>\n",
       "    </tr>\n",
       "  </tbody>\n",
       "</table>\n",
       "</div>"
      ],
      "text/plain": [
       "        lat       lon\n",
       "0  30.23034 -97.78807\n",
       "1  30.23055 -97.78852\n",
       "2  30.23085 -97.78913\n",
       "3  30.23094 -97.78932\n",
       "4  30.23118 -97.78982"
      ]
     },
     "execution_count": 9,
     "metadata": {},
     "output_type": "execute_result"
    }
   ],
   "source": [
    "# Create a dataframe from the GPX gps points\n",
    "directs_pts = pd.DataFrame([{'lat': pt.latitude, 'lon': pt.longitude} for pt in directs])\n",
    "directs_pts.head()"
   ]
  },
  {
   "cell_type": "code",
   "execution_count": 10,
   "metadata": {},
   "outputs": [],
   "source": [
    "# Create line from points\n",
    "directs_geometry = [Point(xy) for xy in zip(directs_pts.lon, directs_pts.lat)]\n",
    "directs_line = gpd.GeoSeries(LineString(directs_geometry))"
   ]
  },
  {
   "cell_type": "code",
   "execution_count": 11,
   "metadata": {},
   "outputs": [
    {
     "data": {
      "image/png": "[encoded data removed]",
      "text/plain": [
       "<Figure size 432x288 with 1 Axes>"
      ]
     },
     "metadata": {
      "needs_background": "light"
     },
     "output_type": "display_data"
    }
   ],
   "source": [
    "# Double check our GPX directions line\n",
    "directs_line.plot();"
   ]
  },
  {
   "cell_type": "markdown",
   "metadata": {},
   "source": [
    "### Geometric Manipulations!"
   ]
  },
  {
   "cell_type": "markdown",
   "metadata": {},
   "source": [
    "It doesn't matter at what longitude you are. What matters is what latitude you are.\n",
    "\n",
    "Length of 1 degree of Longitude = cosine (latitude in decimal degrees) * length of degree (miles) at equator.\n",
    "\n",
    "Convert your latitude into decimal degrees ~ 37.26383\n",
    "\n",
    "Convert your decimal degrees into radians ~ 0.79863\n",
    "\n",
    "1 degree of Longitude = ~0.79863 * 69.172 = ~ 55.2428 miles"
   ]
  },
  {
   "cell_type": "code",
   "execution_count": 12,
   "metadata": {},
   "outputs": [
    {
     "data": {
      "text/plain": [
       "False    2149\n",
       "True       97\n",
       "Name: intersects, dtype: int64"
      ]
     },
     "execution_count": 12,
     "metadata": {},
     "output_type": "execute_result"
    }
   ],
   "source": [
    "# add a 1 mile buffer to the directions\n",
    "buffered_directions = directs_line.buffer(0.0175)\n",
    "\n",
    "# Intersect the road trip mcdonalds with the buffered directions\n",
    "road_trip_mcdons['intersects'] = road_trip_mcdons['geometry'].apply(lambda pt: buffered_directions.intersects(pt))\n",
    "\n",
    "# ???\n",
    "\n",
    "# profit\n",
    "road_trip_mcdons['intersects'].value_counts()\n"
   ]
  },
  {
   "cell_type": "markdown",
   "metadata": {},
   "source": [
    "### Reprojecting all into Albers"
   ]
  },
  {
   "cell_type": "code",
   "execution_count": 13,
   "metadata": {},
   "outputs": [
    {
     "name": "stderr",
     "output_type": "stream",
     "text": [
      "/home/user/.miniconda3/envs/maps/lib/python3.5/site-packages/geopandas/geodataframe.py:150: SettingWithCopyWarning: \n",
      "A value is trying to be set on a copy of a slice from a DataFrame.\n",
      "Try using .loc[row_indexer,col_indexer] = value instead\n",
      "\n",
      "See the caveats in the documentation: http://pandas.pydata.org/pandas-docs/stable/indexing.html#indexing-view-versus-copy\n",
      "  frame[geo_column_name] = level\n"
     ]
    }
   ],
   "source": [
    "# States are already init\n",
    "road_trip_states.to_crs(epsg=2163, inplace=True)\n",
    "\n",
    "# McDonalds - Init + set\n",
    "road_trip_mcdons.crs = {'init': 'epsg:4326'}\n",
    "road_trip_mcdons.to_crs(epsg=2163, inplace=True)\n",
    "\n",
    "# Directions - Geodataframe + init + set\n",
    "directs_df = gpd.GeoDataFrame(directs_line, geometry=directs_line)\n",
    "directs_df.crs = {'init': 'epsg:4326'}\n",
    "directs_df.to_crs(epsg=2163, inplace=True)"
   ]
  },
  {
   "cell_type": "markdown",
   "metadata": {},
   "source": [
    "### Label Centroids"
   ]
  },
  {
   "cell_type": "code",
   "execution_count": 14,
   "metadata": {},
   "outputs": [
    {
     "name": "stderr",
     "output_type": "stream",
     "text": [
      "/home/user/.miniconda3/envs/maps/lib/python3.5/site-packages/ipykernel_launcher.py:2: SettingWithCopyWarning: \n",
      "A value is trying to be set on a copy of a slice from a DataFrame.\n",
      "Try using .loc[row_indexer,col_indexer] = value instead\n",
      "\n",
      "See the caveats in the documentation: http://pandas.pydata.org/pandas-docs/stable/indexing.html#indexing-view-versus-copy\n",
      "  \n",
      "/home/user/.miniconda3/envs/maps/lib/python3.5/site-packages/ipykernel_launcher.py:3: SettingWithCopyWarning: \n",
      "A value is trying to be set on a copy of a slice from a DataFrame.\n",
      "Try using .loc[row_indexer,col_indexer] = value instead\n",
      "\n",
      "See the caveats in the documentation: http://pandas.pydata.org/pandas-docs/stable/indexing.html#indexing-view-versus-copy\n",
      "  This is separate from the ipykernel package so we can avoid doing imports until\n"
     ]
    }
   ],
   "source": [
    "# Get state labels + points\n",
    "road_trip_states['center'] = road_trip_states['geometry'].centroid\n",
    "road_trip_states['rep'] = road_trip_states['geometry'].representative_point()\n",
    "\n",
    "state_labels = road_trip_states.copy()\n",
    "state_labels.set_geometry('rep', inplace=True)\n",
    "\n",
    "# Add abbreviations to state names\n",
    "name_to_abbrv = {\n",
    "    'Texas': 'TX',\n",
    "    'Oklahoma': 'OK',\n",
    "    'Minnesota': 'MN',\n",
    "    'Iowa': 'IA',\n",
    "    'Missouri': 'MO',\n",
    "    'Kansas': 'KS'\n",
    "}\n",
    "state_labels['abbrv'] = state_labels.NAME.apply(lambda nm: name_to_abbrv[nm])"
   ]
  },
  {
   "cell_type": "markdown",
   "metadata": {},
   "source": [
    "### Plotting"
   ]
  },
  {
   "cell_type": "code",
   "execution_count": 69,
   "metadata": {},
   "outputs": [
    {
     "data": {
      "image/png": "[encoded data removed]",
      "text/plain": [
       "<Figure size 720x720 with 1 Axes>"
      ]
     },
     "metadata": {
      "needs_background": "light"
     },
     "output_type": "display_data"
    }
   ],
   "source": [
    "############ Init\n",
    "fig, ax = plt.subplots(1, figsize=(10, 10))\n",
    "\n",
    "\n",
    "########### Plot layers!\n",
    "# States\n",
    "road_trip_states.plot(ax=ax, facecolor='whitesmoke', edgecolor='dimgrey')\n",
    "\n",
    "# Labels\n",
    "for x, y, name in zip(state_labels.geometry.x, state_labels.geometry.y, state_labels.abbrv):\n",
    "    plt.text(x, y, name, fontsize=10)\n",
    "\n",
    "# Directions\n",
    "directs_df.plot(ax=ax, color='slategrey', alpha=0.75, linewidth=2.5)\n",
    "\n",
    "# McDonalds\n",
    "road_trip_mcdons[road_trip_mcdons['intersects'] == True].plot(ax=ax, color='yellow', edgecolor='red', markersize=15)\n",
    "\n",
    "\n",
    "#################### Plot clean\n",
    "# remove border\n",
    "ax.set_axis_off()\n",
    "\n",
    "# Map title\n",
    "ax.text(-0.25, 1.05, 'McDonalds Passed from ATX to MPS:',\n",
    "          family='Roboto Bold',\n",
    "          weight='semibold',\n",
    "          color='#222222',\n",
    "          size=18,\n",
    "          va='top',\n",
    "          ha='left',\n",
    "          transform=ax.transAxes,\n",
    "          bbox={\n",
    "              'boxstyle': 'square',\n",
    "              'ec': 'white',\n",
    "              'fc': 'white',\n",
    "              'pad': 0.5,\n",
    "              'alpha': 0.5\n",
    "          })\n",
    "\n",
    "# Map title\n",
    "ax.text(0.9, 1.05, '97',\n",
    "          family='Roboto Bold',\n",
    "          weight='semibold',\n",
    "          color='red',\n",
    "          size=18,\n",
    "          va='top',\n",
    "          ha='left',\n",
    "          transform=ax.transAxes,\n",
    "          bbox={\n",
    "              'boxstyle': 'square',\n",
    "              'ec': 'white',\n",
    "              'fc': 'white',\n",
    "              'pad': 0.25,\n",
    "              'alpha': 0.5\n",
    "          })\n",
    "\n",
    "# show\n",
    "#plt.tight_layout();\n",
    "plt.savefig('./road-trip-mcdonalds.png', facecolor='white', bbox_inches='tight', pad_inches=0.15, dpi=108)"
   ]
  },
  {
   "cell_type": "code",
   "execution_count": null,
   "metadata": {},
   "outputs": [],
   "source": []
  }
 ],
 "metadata": {
  "kernelspec": {
   "display_name": "Python 3",
   "language": "python",
   "name": "python3"
  },
  "language_info": {
   "codemirror_mode": {
    "name": "ipython",
    "version": 3
   },
   "file_extension": ".py",
   "mimetype": "text/x-python",
   "name": "python",
   "nbconvert_exporter": "python",
   "pygments_lexer": "ipython3",
   "version": "3.5.5"
  }
 },
 "nbformat": 4,
 "nbformat_minor": 2
}
